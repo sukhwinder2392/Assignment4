{
  "metadata": {
    "language_info": {
      "codemirror_mode": {
        "name": "python",
        "version": 3
      },
      "file_extension": ".py",
      "mimetype": "text/x-python",
      "name": "python",
      "nbconvert_exporter": "python",
      "pygments_lexer": "ipython3",
      "version": "3.8"
    },
    "kernelspec": {
      "name": "python",
      "display_name": "Pyolite",
      "language": "python"
    }
  },
  "nbformat_minor": 4,
  "nbformat": 4,
  "cells": [
    {
      "cell_type": "markdown",
      "source": "# My Jupyter Notebook on IBM Watson Studio\n",
      "metadata": {}
    },
    {
      "cell_type": "markdown",
      "source": "**Sukhwinder Singh**\n",
      "metadata": {}
    },
    {
      "cell_type": "markdown",
      "source": "I am interested in data science because it allow us to view data in different ways which can allow company to succeed or even in health, it can save someones live.",
      "metadata": {}
    },
    {
      "cell_type": "markdown",
      "source": "### The code will do 1 * 3",
      "metadata": {}
    },
    {
      "cell_type": "code",
      "source": "1 * 3",
      "metadata": {
        "trusted": true
      },
      "execution_count": 2,
      "outputs": [
        {
          "execution_count": 2,
          "output_type": "execute_result",
          "data": {
            "text/plain": "3"
          },
          "metadata": {}
        }
      ]
    },
    {
      "cell_type": "markdown",
      "source": "<a href=\"www.nba.com\">NBA</a>\n\nNBA Player\n***\nLebron James\n***\nMicheal Jordan\n***\nKobe Bryant\n\n| Teams        | Sport          \n| ------------- |:-------------:| \n| Lakers      | Basketball | \n| Manchester United      | Soccer      | \n| Maple Leafs | Hockey      |  \n   ",
      "metadata": {}
    },
    {
      "cell_type": "code",
      "source": "",
      "metadata": {},
      "execution_count": null,
      "outputs": []
    },
    {
      "cell_type": "code",
      "source": "",
      "metadata": {},
      "execution_count": null,
      "outputs": []
    }
  ]
}